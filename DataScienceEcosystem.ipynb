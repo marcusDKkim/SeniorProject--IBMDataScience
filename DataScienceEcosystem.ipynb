{
 "cells": [
  {
   "cell_type": "markdown",
   "id": "745dde94",
   "metadata": {},
   "source": [
    "# Data Science Tools and Ecosystem"
   ]
  },
  {
   "cell_type": "markdown",
   "id": "54650638",
   "metadata": {},
   "source": [
    "## Author\n",
    "Marcus Kim"
   ]
  },
  {
   "cell_type": "markdown",
   "id": "dc30d870",
   "metadata": {},
   "source": [
    "In this notebook, Data Science Tools and Ecosystems are summarized."
   ]
  },
  {
   "cell_type": "markdown",
   "id": "b0767d9f",
   "metadata": {},
   "source": [
    "**Objectives**\n",
    "\n",
    "+ Popular languages\n",
    "+ Popular libraries\n",
    "+ Popular tools \n",
    "+ Example code"
   ]
  },
  {
   "cell_type": "markdown",
   "id": "fd883451",
   "metadata": {},
   "source": [
    "Some of the popular languages that Data Scientists use are: \n",
    "\n",
    "    1. Python\n",
    "    2. R\n",
    "    3. SQL"
   ]
  },
  {
   "cell_type": "markdown",
   "id": "ab7536b1",
   "metadata": {},
   "source": [
    "Some of the commonly used libraries used by Data Scientists include: \n",
    "\n",
    "    1. Scientific\n",
    "        1. pandas\n",
    "        2. numpy\n",
    "    2. Visualization\n",
    "        1. matplotlib\n",
    "        2. seaborn\n",
    "    3. Machine and Deep Learning\n",
    "        1. scikit-learn\n",
    "        2. keras\n",
    "    4. Deep Learning\n",
    "        1. TensorFlow\n",
    "        2. PyTorch"
   ]
  },
  {
   "cell_type": "markdown",
   "id": "8710c0e8",
   "metadata": {},
   "source": [
    "| Data Science Tools|\n",
    "|-------------------|\n",
    "| Jupyter Notebooks |\n",
    "| RStudio           |\n",
    "| VS Code           | \n",
    "| ApacheSpark       |\n"
   ]
  },
  {
   "cell_type": "markdown",
   "id": "1342254a",
   "metadata": {},
   "source": [
    "### Below are a few examples of evaluating arithmetic expressions in Python"
   ]
  },
  {
   "cell_type": "code",
   "execution_count": 2,
   "id": "a333570d",
   "metadata": {},
   "outputs": [
    {
     "data": {
      "text/plain": [
       "17"
      ]
     },
     "execution_count": 2,
     "metadata": {},
     "output_type": "execute_result"
    }
   ],
   "source": [
    "#This is a simple arithmetic expression to multiply then add integers\n",
    "(3*4)+5"
   ]
  },
  {
   "cell_type": "code",
   "execution_count": 3,
   "id": "3f42df6d",
   "metadata": {},
   "outputs": [
    {
     "data": {
      "text/plain": [
       "3.3333333333333335"
      ]
     },
     "execution_count": 3,
     "metadata": {},
     "output_type": "execute_result"
    }
   ],
   "source": [
    "#This will convert 200 minutes to hours by dividing by 60. \n",
    "200/60."
   ]
  },
  {
   "cell_type": "code",
   "execution_count": null,
   "id": "5f22a11e",
   "metadata": {},
   "outputs": [],
   "source": []
  }
 ],
 "metadata": {
  "kernelspec": {
   "display_name": "Python 3 (ipykernel)",
   "language": "python",
   "name": "python3"
  },
  "language_info": {
   "codemirror_mode": {
    "name": "ipython",
    "version": 3
   },
   "file_extension": ".py",
   "mimetype": "text/x-python",
   "name": "python",
   "nbconvert_exporter": "python",
   "pygments_lexer": "ipython3",
   "version": "3.9.13"
  }
 },
 "nbformat": 4,
 "nbformat_minor": 5
}
